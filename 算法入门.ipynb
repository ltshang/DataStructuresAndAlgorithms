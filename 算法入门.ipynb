{
 "cells": [
  {
   "cell_type": "markdown",
   "metadata": {},
   "source": [
    "#### 又名卡拉兹(Callatz)猜想：\n",
    "\n",
    "\n",
    "\n",
    "对任何一个自然数n，如果它是偶数，那么把它砍掉一半；如果它是奇数，那么把(3n+1)砍掉一半。这样一直反复砍下去，最后一定在某一步得到n=1。卡拉兹在1950年的世界数学家大会上公布了这个猜想，传说当时耶鲁大学师生齐动员，拼命想证明这个貌似很傻很天真的命题，结果闹得学生们无心学业，一心只证(3n+1)，以至于有人说这是一个阴谋，卡拉兹是在蓄意延缓美国数学界教学与科研的进展……\n",
    "\n",
    "\n",
    "\n",
    "我们今天的题目不是证明卡拉兹猜想，而是对给定的任一不超过1000的正整数n，简单地数一下，需要多少步（砍几下）才能得到n=1？\n",
    "\n",
    "\n",
    "\n",
    "输入格式：每个测试输入包含1个测试用例，即给出自然数n的值。\n",
    "\n",
    "输出格式：输出从n计算到1需要的步数。\n",
    "\n",
    "输入样例：\n",
    "\n",
    "3\n",
    "\n",
    "输出样例：\n",
    "\n",
    "5"
   ]
  },
  {
   "cell_type": "code",
   "execution_count": 2,
   "metadata": {},
   "outputs": [
    {
     "name": "stdout",
     "output_type": "stream",
     "text": [
      "3\n",
      "5\n"
     ]
    }
   ],
   "source": [
    "n = int(input())\n",
    "i = 0\n",
    "while n != 1:\n",
    "    if n%2 == 0:\n",
    "        n = n/2\n",
    "    else:\n",
    "        n =(3*n + 1)/2\n",
    "    i += 1\n",
    "print(i)"
   ]
  },
  {
   "cell_type": "markdown",
   "metadata": {},
   "source": [
    "#### 输入格式：\n",
    "\n",
    "\n",
    "\n",
    "输入在第1行给出不超过105的正整数N，即参赛人数。随后N行，每行给出一位参赛者的信息和成绩，包括其所代表的学校的编号（从1开始连续编号）、及其比赛成绩（百分制），中间以空格分隔。\n",
    "\n",
    "\n",
    "\n",
    "输出格式：\n",
    "\n",
    "\n",
    "\n",
    "在一行中给出总得分最高的学校的编号、及其总分，中间以空格分隔。题目保证答案唯一，没有并列。\n",
    "\n",
    "输入样例：\n",
    "\n",
    "6\n",
    "3 65\n",
    "2 80\n",
    "1 100\n",
    "2 70\n",
    "3 40\n",
    "3 0\n",
    "\n",
    "输出样例：\n",
    "\n",
    "2 150\n",
    "\n"
   ]
  },
  {
   "cell_type": "code",
   "execution_count": 4,
   "metadata": {},
   "outputs": [
    {
     "name": "stdout",
     "output_type": "stream",
     "text": [
      "6\n",
      "3 65\n",
      "2 80\n",
      "1 100\n",
      "2 70\n",
      "3 40\n",
      "3 0\n",
      "2 150\n"
     ]
    }
   ],
   "source": [
    "info = {}#键是学校，值是分数\n",
    "n = int(input())\n",
    "while(n):\n",
    "    a,b = input().split()\n",
    "    b = int(b)\n",
    "    if a in info:\n",
    "        info[a] = info[a] + b\n",
    "    else:\n",
    "        info[a] = b\n",
    "    n -= 1\n",
    "max = -1\n",
    "maxid = ''\n",
    "for key in info:\n",
    "    if info[key] > max:\n",
    "        maxid = key\n",
    "        max = info[key]\n",
    "print('{} {}'.format(maxid,max))"
   ]
  },
  {
   "cell_type": "markdown",
   "metadata": {},
   "source": [
    "#### 输入格式：\n",
    "\n",
    "输入在一行中给出正方形边长N（3=N=20）和组成正方形边的某种字符C，间隔一个空格。\n",
    "\n",
    "\n",
    "\n",
    "输出格式：\n",
    "\n",
    "输出由给定字符C画出的正方形。但是注意到行间距比列间距大，所以为了让结果看上去更像正方形，我们输出的行数实际上是列数的50%（四舍五入取整）。\n",
    "\n",
    "\n",
    "\n",
    "输入样例： \n",
    "10 a\n",
    "\n",
    "\n",
    "\n",
    "输出样例：\n",
    "\n",
    "aaaaaaaaaa\n",
    "a        a\n",
    "a        a\n",
    "a        a\n",
    "aaaaaaaaaa\n",
    "\n"
   ]
  },
  {
   "cell_type": "code",
   "execution_count": 7,
   "metadata": {},
   "outputs": [
    {
     "name": "stdout",
     "output_type": "stream",
     "text": [
      "10 a\n",
      "aaaaaaaaaa\n",
      "a        a\n",
      "a        a\n",
      "a        a\n",
      "aaaaaaaaaa"
     ]
    }
   ],
   "source": [
    "col,char = input().split()\n",
    "col = int(col)\n",
    "if col%2 == 1:\n",
    "    row = col//2+1\n",
    "else:\n",
    "    row = col//2\n",
    "\n",
    "for i in range(0,col):\n",
    "    print(char,end = '')\n",
    "print('')\n",
    "for i in range(2,row):\n",
    "    print(char,end = '')\n",
    "    for j in range(0,col-2):\n",
    "        print(' ',end = '')\n",
    "    print(char)\n",
    "for i in range(0,col):\n",
    "    print(char,end = '')"
   ]
  },
  {
   "cell_type": "markdown",
   "metadata": {},
   "source": [
    "#### 输入两个非负10进制整数A和B(<=2^30-1)，输出A+B的D (1 < D <= 10)进制数。\n",
    "\n",
    "\n",
    "\n",
    "输入格式：\n",
    "\n",
    "输入在一行中依次给出3个整数A、B和D。\n",
    "\n",
    "\n",
    "\n",
    "输出格式：\n",
    "\n",
    "输出A+B的D进制数。\n",
    "\n",
    "\n",
    "\n",
    "输入样例：\n",
    "\n",
    "123 456 8\n",
    "\n",
    "\n",
    "\n",
    "输出样例：\n",
    "\n",
    "1103"
   ]
  },
  {
   "cell_type": "code",
   "execution_count": 8,
   "metadata": {},
   "outputs": [
    {
     "name": "stdout",
     "output_type": "stream",
     "text": [
      "123 456 8\n",
      "1103"
     ]
    }
   ],
   "source": [
    "a,b,d = input().split()\n",
    "a = int(a)\n",
    "b = int(b)\n",
    "d = int(d)\n",
    "sum1 = a + b\n",
    "num = 0\n",
    "ans = []\n",
    "if sum1 == 0:\n",
    "    print(0)\n",
    "while(sum1 != 0):\n",
    "    q = sum1 % d\n",
    "    ans.append(q)\n",
    "    num += 1\n",
    "    sum1 //= d\n",
    "for i in range(num-1,-1,-1):\n",
    "    print(ans[i],end = '')"
   ]
  },
  {
   "cell_type": "markdown",
   "metadata": {},
   "source": [
    "### 题目描述：\n",
    "\n",
    "读入一串字符，判断是否是回文串。“回文串”是一个正读和反读都一样的字符串，比如“level”或者“noon”等等就是回文串。\n",
    "\n",
    "\n",
    "\n",
    "输入：\n",
    "\n",
    "一行字符串，长度不超过255。\n",
    "\n",
    "\n",
    "\n",
    "输出：\n",
    "\n",
    "如果是回文串，输出“YES”，否则输出“NO”。\n",
    "\n",
    "\n",
    "\n",
    "样例输入：\n",
    "\n",
    "12321\n",
    "\n",
    "\n",
    "\n",
    "样例输出：\n",
    "\n",
    "YES"
   ]
  },
  {
   "cell_type": "code",
   "execution_count": 9,
   "metadata": {},
   "outputs": [
    {
     "name": "stdout",
     "output_type": "stream",
     "text": [
      "12321\n",
      "YES\n"
     ]
    }
   ],
   "source": [
    "string = input()\n",
    "length = len(string)\n",
    "flag = 1\n",
    "for i in range(length//2):\n",
    "    if string[i] != string[length - 1 - i]:\n",
    "        print('NO')\n",
    "        flag = 0\n",
    "        break\n",
    "if flag:\n",
    "    print('YES')"
   ]
  },
  {
   "cell_type": "markdown",
   "metadata": {},
   "source": [
    "#### 题目描述\n",
    "\n",
    "\n",
    "\n",
    "春节期间小明使用微信收到很多个红包，非常开心。在查看领取红包记录时发现，某个红包金额出现的次数超过了红包总数的一半。请帮小明找到该红包金额。写出具体算法思路和代码实现，要求算法尽可能高效。\n",
    "\n",
    "\n",
    "\n",
    "给定一个红包的金额数组gifts及它的大小n，请返回所求红包的金额。\n",
    "若没有金额超过总数的一半，返回0。\n",
    "\n",
    "\n",
    "\n",
    "测试样例：\n",
    "\n",
    "\n",
    "\n",
    "[1，2，3，2，2]，5\n",
    "\n",
    "\n",
    "\n",
    "返回：\n",
    "\n",
    "\n",
    "\n",
    "2\n",
    "\n"
   ]
  },
  {
   "cell_type": "code",
   "execution_count": 25,
   "metadata": {},
   "outputs": [],
   "source": [
    "def weixin(list1):\n",
    "    key = list1[0]\n",
    "    count = 1\n",
    "    for item in list1[1:]:\n",
    "        if key == item:\n",
    "            count += 1\n",
    "        else:\n",
    "            count -= 1\n",
    "        if count == -1:\n",
    "            key = item\n",
    "            count = 1\n",
    "    #print(key,count)\n",
    "        \n",
    "    flag = 1\n",
    "    for item in list1:\n",
    "        if key == item:\n",
    "            flag += 1\n",
    "        else:\n",
    "            flag -= 1\n",
    "    if flag >= 1:\n",
    "        return key\n",
    "    else:\n",
    "        return 0"
   ]
  },
  {
   "cell_type": "code",
   "execution_count": 26,
   "metadata": {},
   "outputs": [
    {
     "data": {
      "text/plain": [
       "2"
      ]
     },
     "execution_count": 26,
     "metadata": {},
     "output_type": "execute_result"
    }
   ],
   "source": [
    "list_1 = [1,2,3,2,2]\n",
    "weixin(list_1)"
   ]
  },
  {
   "cell_type": "code",
   "execution_count": 27,
   "metadata": {},
   "outputs": [
    {
     "data": {
      "text/plain": [
       "4"
      ]
     },
     "execution_count": 27,
     "metadata": {},
     "output_type": "execute_result"
    }
   ],
   "source": [
    "list_2 = [4,4,2,3,4]\n",
    "weixin(list_2)"
   ]
  },
  {
   "cell_type": "code",
   "execution_count": 28,
   "metadata": {},
   "outputs": [
    {
     "data": {
      "text/plain": [
       "1"
      ]
     },
     "execution_count": 28,
     "metadata": {},
     "output_type": "execute_result"
    }
   ],
   "source": [
    "list_3 = [1,1,2,2,2,2,1,1,1]\n",
    "weixin(list_3)"
   ]
  },
  {
   "cell_type": "code",
   "execution_count": null,
   "metadata": {},
   "outputs": [],
   "source": []
  }
 ],
 "metadata": {
  "kernelspec": {
   "display_name": "Python 3",
   "language": "python",
   "name": "python3"
  },
  "language_info": {
   "codemirror_mode": {
    "name": "ipython",
    "version": 3
   },
   "file_extension": ".py",
   "mimetype": "text/x-python",
   "name": "python",
   "nbconvert_exporter": "python",
   "pygments_lexer": "ipython3",
   "version": "3.7.0"
  }
 },
 "nbformat": 4,
 "nbformat_minor": 2
}
